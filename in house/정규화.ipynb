{
 "cells": [
  {
   "cell_type": "markdown",
   "metadata": {},
   "source": [
    "# 라이브러리"
   ]
  },
  {
   "cell_type": "code",
   "execution_count": 17,
   "metadata": {},
   "outputs": [],
   "source": [
    "import pandas as pd"
   ]
  },
  {
   "cell_type": "markdown",
   "metadata": {},
   "source": [
    "# 사용할 데이터"
   ]
  },
  {
   "cell_type": "code",
   "execution_count": 14,
   "metadata": {},
   "outputs": [
    {
     "data": {
      "text/html": [
       "<div>\n",
       "<style scoped>\n",
       "    .dataframe tbody tr th:only-of-type {\n",
       "        vertical-align: middle;\n",
       "    }\n",
       "\n",
       "    .dataframe tbody tr th {\n",
       "        vertical-align: top;\n",
       "    }\n",
       "\n",
       "    .dataframe thead th {\n",
       "        text-align: right;\n",
       "    }\n",
       "</style>\n",
       "<table border=\"1\" class=\"dataframe\">\n",
       "  <thead>\n",
       "    <tr style=\"text-align: right;\">\n",
       "      <th></th>\n",
       "      <th>emd_nm</th>\n",
       "      <th>WiFi 접속자수</th>\n",
       "      <th>카드이용자수</th>\n",
       "      <th>자동차등록수</th>\n",
       "      <th>사업체수</th>\n",
       "      <th>총인구수</th>\n",
       "      <th>면수</th>\n",
       "      <th>버스탑승자수(1월)</th>\n",
       "      <th>버스탑승자수(8월)</th>\n",
       "      <th>mean_bus</th>\n",
       "      <th>1월방문객수</th>\n",
       "      <th>8월방문객수</th>\n",
       "      <th>mean_유동인구</th>\n",
       "      <th>주차수요량</th>\n",
       "    </tr>\n",
       "  </thead>\n",
       "  <tbody>\n",
       "    <tr>\n",
       "      <th>0</th>\n",
       "      <td>건입동</td>\n",
       "      <td>1018933</td>\n",
       "      <td>763641</td>\n",
       "      <td>4279</td>\n",
       "      <td>750</td>\n",
       "      <td>9857</td>\n",
       "      <td>370</td>\n",
       "      <td>49873</td>\n",
       "      <td>59935</td>\n",
       "      <td>658848.0</td>\n",
       "      <td>4182419.0</td>\n",
       "      <td>4615997.0</td>\n",
       "      <td>52790496.0</td>\n",
       "      <td>52131648.0</td>\n",
       "    </tr>\n",
       "    <tr>\n",
       "      <th>1</th>\n",
       "      <td>구좌읍</td>\n",
       "      <td>565136</td>\n",
       "      <td>952715</td>\n",
       "      <td>9161</td>\n",
       "      <td>1738</td>\n",
       "      <td>16283</td>\n",
       "      <td>4</td>\n",
       "      <td>74276</td>\n",
       "      <td>86702</td>\n",
       "      <td>965868.0</td>\n",
       "      <td>4630025.0</td>\n",
       "      <td>6893152.0</td>\n",
       "      <td>69139062.0</td>\n",
       "      <td>68173194.0</td>\n",
       "    </tr>\n",
       "    <tr>\n",
       "      <th>2</th>\n",
       "      <td>노형동</td>\n",
       "      <td>4834174</td>\n",
       "      <td>4562480</td>\n",
       "      <td>59875</td>\n",
       "      <td>4476</td>\n",
       "      <td>56223</td>\n",
       "      <td>1587</td>\n",
       "      <td>294504</td>\n",
       "      <td>347773</td>\n",
       "      <td>3853662.0</td>\n",
       "      <td>13591022.0</td>\n",
       "      <td>14025682.0</td>\n",
       "      <td>165700224.0</td>\n",
       "      <td>161846562.0</td>\n",
       "    </tr>\n",
       "  </tbody>\n",
       "</table>\n",
       "</div>"
      ],
      "text/plain": [
       "  emd_nm  WiFi 접속자수   카드이용자수  자동차등록수  사업체수   총인구수    면수  버스탑승자수(1월)  \\\n",
       "0    건입동    1018933   763641    4279   750   9857   370       49873   \n",
       "1    구좌읍     565136   952715    9161  1738  16283     4       74276   \n",
       "2    노형동    4834174  4562480   59875  4476  56223  1587      294504   \n",
       "\n",
       "   버스탑승자수(8월)   mean_bus      1월방문객수      8월방문객수    mean_유동인구        주차수요량  \n",
       "0       59935   658848.0   4182419.0   4615997.0   52790496.0   52131648.0  \n",
       "1       86702   965868.0   4630025.0   6893152.0   69139062.0   68173194.0  \n",
       "2      347773  3853662.0  13591022.0  14025682.0  165700224.0  161846562.0  "
      ]
     },
     "execution_count": 14,
     "metadata": {},
     "output_type": "execute_result"
    }
   ],
   "source": [
    "df = pd.read_csv('주차수요량.csv', encoding = 'euc_kr')\n",
    "df.head(3)"
   ]
  },
  {
   "cell_type": "code",
   "execution_count": 15,
   "metadata": {},
   "outputs": [
    {
     "data": {
      "text/html": [
       "<div>\n",
       "<style scoped>\n",
       "    .dataframe tbody tr th:only-of-type {\n",
       "        vertical-align: middle;\n",
       "    }\n",
       "\n",
       "    .dataframe tbody tr th {\n",
       "        vertical-align: top;\n",
       "    }\n",
       "\n",
       "    .dataframe thead th {\n",
       "        text-align: right;\n",
       "    }\n",
       "</style>\n",
       "<table border=\"1\" class=\"dataframe\">\n",
       "  <thead>\n",
       "    <tr style=\"text-align: right;\">\n",
       "      <th></th>\n",
       "      <th>emd_nm</th>\n",
       "      <th>주차수요량</th>\n",
       "      <th>WiFi 접속자수</th>\n",
       "      <th>카드이용자수</th>\n",
       "      <th>자동차등록수</th>\n",
       "      <th>사업체수</th>\n",
       "      <th>총인구수</th>\n",
       "      <th>면수</th>\n",
       "    </tr>\n",
       "  </thead>\n",
       "  <tbody>\n",
       "    <tr>\n",
       "      <th>0</th>\n",
       "      <td>건입동</td>\n",
       "      <td>52131648.0</td>\n",
       "      <td>1018933</td>\n",
       "      <td>763641</td>\n",
       "      <td>4279</td>\n",
       "      <td>750</td>\n",
       "      <td>9857</td>\n",
       "      <td>370</td>\n",
       "    </tr>\n",
       "    <tr>\n",
       "      <th>1</th>\n",
       "      <td>구좌읍</td>\n",
       "      <td>68173194.0</td>\n",
       "      <td>565136</td>\n",
       "      <td>952715</td>\n",
       "      <td>9161</td>\n",
       "      <td>1738</td>\n",
       "      <td>16283</td>\n",
       "      <td>4</td>\n",
       "    </tr>\n",
       "    <tr>\n",
       "      <th>2</th>\n",
       "      <td>노형동</td>\n",
       "      <td>161846562.0</td>\n",
       "      <td>4834174</td>\n",
       "      <td>4562480</td>\n",
       "      <td>59875</td>\n",
       "      <td>4476</td>\n",
       "      <td>56223</td>\n",
       "      <td>1587</td>\n",
       "    </tr>\n",
       "  </tbody>\n",
       "</table>\n",
       "</div>"
      ],
      "text/plain": [
       "  emd_nm        주차수요량  WiFi 접속자수   카드이용자수  자동차등록수  사업체수   총인구수    면수\n",
       "0    건입동   52131648.0    1018933   763641    4279   750   9857   370\n",
       "1    구좌읍   68173194.0     565136   952715    9161  1738  16283     4\n",
       "2    노형동  161846562.0    4834174  4562480   59875  4476  56223  1587"
      ]
     },
     "execution_count": 15,
     "metadata": {},
     "output_type": "execute_result"
    }
   ],
   "source": [
    "df2 = df.loc[:, ['emd_nm', '주차수요량', 'WiFi 접속자수', '카드이용자수', '자동차등록수', '사업체수', '총인구수', '면수']]\n",
    "df2.head(3)"
   ]
  },
  {
   "cell_type": "markdown",
   "metadata": {},
   "source": [
    "# 상관관계"
   ]
  },
  {
   "cell_type": "code",
   "execution_count": 16,
   "metadata": {
    "scrolled": true
   },
   "outputs": [
    {
     "data": {
      "text/html": [
       "<div>\n",
       "<style scoped>\n",
       "    .dataframe tbody tr th:only-of-type {\n",
       "        vertical-align: middle;\n",
       "    }\n",
       "\n",
       "    .dataframe tbody tr th {\n",
       "        vertical-align: top;\n",
       "    }\n",
       "\n",
       "    .dataframe thead th {\n",
       "        text-align: right;\n",
       "    }\n",
       "</style>\n",
       "<table border=\"1\" class=\"dataframe\">\n",
       "  <thead>\n",
       "    <tr style=\"text-align: right;\">\n",
       "      <th></th>\n",
       "      <th>주차수요량</th>\n",
       "      <th>WiFi 접속자수</th>\n",
       "      <th>카드이용자수</th>\n",
       "      <th>자동차등록수</th>\n",
       "      <th>사업체수</th>\n",
       "      <th>총인구수</th>\n",
       "      <th>면수</th>\n",
       "    </tr>\n",
       "  </thead>\n",
       "  <tbody>\n",
       "    <tr>\n",
       "      <th>주차수요량</th>\n",
       "      <td>1.000000</td>\n",
       "      <td>0.733350</td>\n",
       "      <td>0.898615</td>\n",
       "      <td>0.655927</td>\n",
       "      <td>0.885584</td>\n",
       "      <td>0.875585</td>\n",
       "      <td>0.519003</td>\n",
       "    </tr>\n",
       "    <tr>\n",
       "      <th>WiFi 접속자수</th>\n",
       "      <td>0.733350</td>\n",
       "      <td>1.000000</td>\n",
       "      <td>0.867376</td>\n",
       "      <td>0.628871</td>\n",
       "      <td>0.849985</td>\n",
       "      <td>0.815750</td>\n",
       "      <td>0.665062</td>\n",
       "    </tr>\n",
       "    <tr>\n",
       "      <th>카드이용자수</th>\n",
       "      <td>0.898615</td>\n",
       "      <td>0.867376</td>\n",
       "      <td>1.000000</td>\n",
       "      <td>0.752853</td>\n",
       "      <td>0.896040</td>\n",
       "      <td>0.882783</td>\n",
       "      <td>0.647017</td>\n",
       "    </tr>\n",
       "    <tr>\n",
       "      <th>자동차등록수</th>\n",
       "      <td>0.655927</td>\n",
       "      <td>0.628871</td>\n",
       "      <td>0.752853</td>\n",
       "      <td>1.000000</td>\n",
       "      <td>0.741112</td>\n",
       "      <td>0.628881</td>\n",
       "      <td>0.397458</td>\n",
       "    </tr>\n",
       "    <tr>\n",
       "      <th>사업체수</th>\n",
       "      <td>0.885584</td>\n",
       "      <td>0.849985</td>\n",
       "      <td>0.896040</td>\n",
       "      <td>0.741112</td>\n",
       "      <td>1.000000</td>\n",
       "      <td>0.901444</td>\n",
       "      <td>0.598933</td>\n",
       "    </tr>\n",
       "    <tr>\n",
       "      <th>총인구수</th>\n",
       "      <td>0.875585</td>\n",
       "      <td>0.815750</td>\n",
       "      <td>0.882783</td>\n",
       "      <td>0.628881</td>\n",
       "      <td>0.901444</td>\n",
       "      <td>1.000000</td>\n",
       "      <td>0.550492</td>\n",
       "    </tr>\n",
       "    <tr>\n",
       "      <th>면수</th>\n",
       "      <td>0.519003</td>\n",
       "      <td>0.665062</td>\n",
       "      <td>0.647017</td>\n",
       "      <td>0.397458</td>\n",
       "      <td>0.598933</td>\n",
       "      <td>0.550492</td>\n",
       "      <td>1.000000</td>\n",
       "    </tr>\n",
       "  </tbody>\n",
       "</table>\n",
       "</div>"
      ],
      "text/plain": [
       "              주차수요량  WiFi 접속자수    카드이용자수    자동차등록수      사업체수      총인구수  \\\n",
       "주차수요량      1.000000   0.733350  0.898615  0.655927  0.885584  0.875585   \n",
       "WiFi 접속자수  0.733350   1.000000  0.867376  0.628871  0.849985  0.815750   \n",
       "카드이용자수     0.898615   0.867376  1.000000  0.752853  0.896040  0.882783   \n",
       "자동차등록수     0.655927   0.628871  0.752853  1.000000  0.741112  0.628881   \n",
       "사업체수       0.885584   0.849985  0.896040  0.741112  1.000000  0.901444   \n",
       "총인구수       0.875585   0.815750  0.882783  0.628881  0.901444  1.000000   \n",
       "면수         0.519003   0.665062  0.647017  0.397458  0.598933  0.550492   \n",
       "\n",
       "                 면수  \n",
       "주차수요량      0.519003  \n",
       "WiFi 접속자수  0.665062  \n",
       "카드이용자수     0.647017  \n",
       "자동차등록수     0.397458  \n",
       "사업체수       0.598933  \n",
       "총인구수       0.550492  \n",
       "면수         1.000000  "
      ]
     },
     "execution_count": 16,
     "metadata": {},
     "output_type": "execute_result"
    }
   ],
   "source": [
    "df2.corr()"
   ]
  },
  {
   "cell_type": "markdown",
   "metadata": {},
   "source": [
    "# 정규화"
   ]
  },
  {
   "cell_type": "code",
   "execution_count": 20,
   "metadata": {},
   "outputs": [
    {
     "data": {
      "text/plain": [
       "array([-0.38130407, -0.0719598 ,  1.73443218, -0.8276755 , -0.70656871,\n",
       "       -0.49440116, -0.52464274, -0.63769841,  0.52897333,  2.08062633,\n",
       "        1.90593277,  0.39108904, -0.67628026, -0.78449049,  0.59509091,\n",
       "       -1.16571602, -0.14707589,  2.29186686, -0.89710869, -0.98127512,\n",
       "        0.14508304,  0.60058649, -1.16518193, -0.85893851,  0.14606767,\n",
       "       -0.09943132])"
      ]
     },
     "execution_count": 20,
     "metadata": {},
     "output_type": "execute_result"
    }
   ],
   "source": [
    "from numpy import *\n",
    "x_standard = (x-mean(x, axis = 0))/std(x, axis = 0)\n",
    "x_standard"
   ]
  },
  {
   "cell_type": "code",
   "execution_count": 21,
   "metadata": {},
   "outputs": [
    {
     "name": "stdout",
     "output_type": "stream",
     "text": [
      "mean :  1.0088084214142047e-16\n",
      "std :  1.0\n"
     ]
    }
   ],
   "source": [
    "print('mean : ', mean(x_standard, axis = 0))\n",
    "print('std : ', std(x_standard, axis = 0) )"
   ]
  },
  {
   "cell_type": "code",
   "execution_count": 23,
   "metadata": {},
   "outputs": [
    {
     "data": {
      "image/png": "[encoded data removed]",
      "text/plain": [
       "<Figure size 432x288 with 1 Axes>"
      ]
     },
     "metadata": {
      "needs_background": "light"
     },
     "output_type": "display_data"
    }
   ],
   "source": [
    "import seaborn as sns\n",
    "import matplotlib.pyplot as plt\n",
    "\n",
    "sns.distplot(x_standard, rug = True)\n",
    "plt.show()"
   ]
  },
  {
   "cell_type": "code",
   "execution_count": 24,
   "metadata": {},
   "outputs": [
    {
     "data": {
      "image/png": "[encoded data removed]",
      "text/plain": [
       "<Figure size 432x288 with 1 Axes>"
      ]
     },
     "metadata": {
      "needs_background": "light"
     },
     "output_type": "display_data"
    }
   ],
   "source": [
    "plt.hist(x_standard)\n",
    "plt.show()"
   ]
  },
  {
   "cell_type": "code",
   "execution_count": null,
   "metadata": {},
   "outputs": [],
   "source": []
  }
 ],
 "metadata": {
  "kernelspec": {
   "display_name": "Python 3",
   "language": "python",
   "name": "python3"
  },
  "language_info": {
   "codemirror_mode": {
    "name": "ipython",
    "version": 3
   },
   "file_extension": ".py",
   "mimetype": "text/x-python",
   "name": "python",
   "nbconvert_exporter": "python",
   "pygments_lexer": "ipython3",
   "version": "3.7.7"
  },
  "toc": {
   "base_numbering": 1,
   "nav_menu": {},
   "number_sections": true,
   "sideBar": true,
   "skip_h1_title": false,
   "title_cell": "Table of Contents",
   "title_sidebar": "Contents",
   "toc_cell": false,
   "toc_position": {},
   "toc_section_display": true,
   "toc_window_display": false
  }
 },
 "nbformat": 4,
 "nbformat_minor": 4
}
