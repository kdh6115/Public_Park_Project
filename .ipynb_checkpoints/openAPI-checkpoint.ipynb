{
 "cells": [
  {
   "cell_type": "code",
   "execution_count": 2,
   "metadata": {},
   "outputs": [],
   "source": [
    "from urllib.request import urlopen\n",
    "import urllib.parse\n",
    "import urllib\n",
    "import requests\n",
    "import json\n",
    "import pandas as pd\n",
    "from pandas.io.json import json_normalize\n",
    "import re"
   ]
  },
  {
   "cell_type": "code",
   "execution_count": 3,
   "metadata": {},
   "outputs": [],
   "source": [
    "your_appkey = '9670733fe9144915b0733fe91479152b'"
   ]
  },
  {
   "cell_type": "code",
   "execution_count": 4,
   "metadata": {},
   "outputs": [
    {
     "ename": "HTTPError",
     "evalue": "HTTP Error 403: Forbidden",
     "output_type": "error",
     "traceback": [
      "\u001b[1;31m---------------------------------------------------------------------------\u001b[0m",
      "\u001b[1;31mHTTPError\u001b[0m                                 Traceback (most recent call last)",
      "\u001b[1;32m<ipython-input-4-0fcabdb5d9cd>\u001b[0m in \u001b[0;36m<module>\u001b[1;34m\u001b[0m\n\u001b[0;32m      4\u001b[0m     \u001b[0mdate\u001b[0m \u001b[1;33m=\u001b[0m \u001b[0mstr\u001b[0m\u001b[1;33m(\u001b[0m\u001b[0mdatetime\u001b[0m\u001b[1;33m.\u001b[0m\u001b[0mdate\u001b[0m\u001b[1;33m(\u001b[0m\u001b[1;33m)\u001b[0m\u001b[1;33m)\u001b[0m\u001b[1;33m.\u001b[0m\u001b[0mreplace\u001b[0m\u001b[1;33m(\u001b[0m\u001b[1;34m'-'\u001b[0m\u001b[1;33m,\u001b[0m\u001b[1;34m''\u001b[0m\u001b[1;33m)\u001b[0m\u001b[1;33m\u001b[0m\u001b[1;33m\u001b[0m\u001b[0m\n\u001b[0;32m      5\u001b[0m     \u001b[0murl\u001b[0m \u001b[1;33m=\u001b[0m \u001b[1;34mf'https://gw.jejudatahub.net/api/proxy/2091358b30e611eabf4805544c722b34/{your_appkey}?searchDate={date}'\u001b[0m\u001b[1;33m\u001b[0m\u001b[1;33m\u001b[0m\u001b[0m\n\u001b[1;32m----> 6\u001b[1;33m     \u001b[0mresponse\u001b[0m\u001b[1;33m=\u001b[0m\u001b[0murlopen\u001b[0m\u001b[1;33m(\u001b[0m\u001b[0murl\u001b[0m\u001b[1;33m)\u001b[0m\u001b[1;33m.\u001b[0m\u001b[0mread\u001b[0m\u001b[1;33m(\u001b[0m\u001b[1;33m)\u001b[0m\u001b[1;33m.\u001b[0m\u001b[0mdecode\u001b[0m\u001b[1;33m(\u001b[0m\u001b[1;34m'utf-8'\u001b[0m\u001b[1;33m)\u001b[0m\u001b[1;33m\u001b[0m\u001b[1;33m\u001b[0m\u001b[0m\n\u001b[0m\u001b[0;32m      7\u001b[0m     \u001b[1;31m#디코딩\u001b[0m\u001b[1;33m\u001b[0m\u001b[1;33m\u001b[0m\u001b[1;33m\u001b[0m\u001b[0m\n\u001b[0;32m      8\u001b[0m     \u001b[0mja\u001b[0m\u001b[1;33m=\u001b[0m\u001b[0mjson\u001b[0m\u001b[1;33m.\u001b[0m\u001b[0mloads\u001b[0m\u001b[1;33m(\u001b[0m\u001b[0mresponse\u001b[0m\u001b[1;33m)\u001b[0m\u001b[1;33m\u001b[0m\u001b[1;33m\u001b[0m\u001b[0m\n",
      "\u001b[1;32mC:\\ProgramData\\Anaconda3\\lib\\urllib\\request.py\u001b[0m in \u001b[0;36murlopen\u001b[1;34m(url, data, timeout, cafile, capath, cadefault, context)\u001b[0m\n\u001b[0;32m    220\u001b[0m     \u001b[1;32melse\u001b[0m\u001b[1;33m:\u001b[0m\u001b[1;33m\u001b[0m\u001b[1;33m\u001b[0m\u001b[0m\n\u001b[0;32m    221\u001b[0m         \u001b[0mopener\u001b[0m \u001b[1;33m=\u001b[0m \u001b[0m_opener\u001b[0m\u001b[1;33m\u001b[0m\u001b[1;33m\u001b[0m\u001b[0m\n\u001b[1;32m--> 222\u001b[1;33m     \u001b[1;32mreturn\u001b[0m \u001b[0mopener\u001b[0m\u001b[1;33m.\u001b[0m\u001b[0mopen\u001b[0m\u001b[1;33m(\u001b[0m\u001b[0murl\u001b[0m\u001b[1;33m,\u001b[0m \u001b[0mdata\u001b[0m\u001b[1;33m,\u001b[0m \u001b[0mtimeout\u001b[0m\u001b[1;33m)\u001b[0m\u001b[1;33m\u001b[0m\u001b[1;33m\u001b[0m\u001b[0m\n\u001b[0m\u001b[0;32m    223\u001b[0m \u001b[1;33m\u001b[0m\u001b[0m\n\u001b[0;32m    224\u001b[0m \u001b[1;32mdef\u001b[0m \u001b[0minstall_opener\u001b[0m\u001b[1;33m(\u001b[0m\u001b[0mopener\u001b[0m\u001b[1;33m)\u001b[0m\u001b[1;33m:\u001b[0m\u001b[1;33m\u001b[0m\u001b[1;33m\u001b[0m\u001b[0m\n",
      "\u001b[1;32mC:\\ProgramData\\Anaconda3\\lib\\urllib\\request.py\u001b[0m in \u001b[0;36mopen\u001b[1;34m(self, fullurl, data, timeout)\u001b[0m\n\u001b[0;32m    529\u001b[0m         \u001b[1;32mfor\u001b[0m \u001b[0mprocessor\u001b[0m \u001b[1;32min\u001b[0m \u001b[0mself\u001b[0m\u001b[1;33m.\u001b[0m\u001b[0mprocess_response\u001b[0m\u001b[1;33m.\u001b[0m\u001b[0mget\u001b[0m\u001b[1;33m(\u001b[0m\u001b[0mprotocol\u001b[0m\u001b[1;33m,\u001b[0m \u001b[1;33m[\u001b[0m\u001b[1;33m]\u001b[0m\u001b[1;33m)\u001b[0m\u001b[1;33m:\u001b[0m\u001b[1;33m\u001b[0m\u001b[1;33m\u001b[0m\u001b[0m\n\u001b[0;32m    530\u001b[0m             \u001b[0mmeth\u001b[0m \u001b[1;33m=\u001b[0m \u001b[0mgetattr\u001b[0m\u001b[1;33m(\u001b[0m\u001b[0mprocessor\u001b[0m\u001b[1;33m,\u001b[0m \u001b[0mmeth_name\u001b[0m\u001b[1;33m)\u001b[0m\u001b[1;33m\u001b[0m\u001b[1;33m\u001b[0m\u001b[0m\n\u001b[1;32m--> 531\u001b[1;33m             \u001b[0mresponse\u001b[0m \u001b[1;33m=\u001b[0m \u001b[0mmeth\u001b[0m\u001b[1;33m(\u001b[0m\u001b[0mreq\u001b[0m\u001b[1;33m,\u001b[0m \u001b[0mresponse\u001b[0m\u001b[1;33m)\u001b[0m\u001b[1;33m\u001b[0m\u001b[1;33m\u001b[0m\u001b[0m\n\u001b[0m\u001b[0;32m    532\u001b[0m \u001b[1;33m\u001b[0m\u001b[0m\n\u001b[0;32m    533\u001b[0m         \u001b[1;32mreturn\u001b[0m \u001b[0mresponse\u001b[0m\u001b[1;33m\u001b[0m\u001b[1;33m\u001b[0m\u001b[0m\n",
      "\u001b[1;32mC:\\ProgramData\\Anaconda3\\lib\\urllib\\request.py\u001b[0m in \u001b[0;36mhttp_response\u001b[1;34m(self, request, response)\u001b[0m\n\u001b[0;32m    638\u001b[0m         \u001b[1;31m# request was successfully received, understood, and accepted.\u001b[0m\u001b[1;33m\u001b[0m\u001b[1;33m\u001b[0m\u001b[1;33m\u001b[0m\u001b[0m\n\u001b[0;32m    639\u001b[0m         \u001b[1;32mif\u001b[0m \u001b[1;32mnot\u001b[0m \u001b[1;33m(\u001b[0m\u001b[1;36m200\u001b[0m \u001b[1;33m<=\u001b[0m \u001b[0mcode\u001b[0m \u001b[1;33m<\u001b[0m \u001b[1;36m300\u001b[0m\u001b[1;33m)\u001b[0m\u001b[1;33m:\u001b[0m\u001b[1;33m\u001b[0m\u001b[1;33m\u001b[0m\u001b[0m\n\u001b[1;32m--> 640\u001b[1;33m             response = self.parent.error(\n\u001b[0m\u001b[0;32m    641\u001b[0m                 'http', request, response, code, msg, hdrs)\n\u001b[0;32m    642\u001b[0m \u001b[1;33m\u001b[0m\u001b[0m\n",
      "\u001b[1;32mC:\\ProgramData\\Anaconda3\\lib\\urllib\\request.py\u001b[0m in \u001b[0;36merror\u001b[1;34m(self, proto, *args)\u001b[0m\n\u001b[0;32m    567\u001b[0m         \u001b[1;32mif\u001b[0m \u001b[0mhttp_err\u001b[0m\u001b[1;33m:\u001b[0m\u001b[1;33m\u001b[0m\u001b[1;33m\u001b[0m\u001b[0m\n\u001b[0;32m    568\u001b[0m             \u001b[0margs\u001b[0m \u001b[1;33m=\u001b[0m \u001b[1;33m(\u001b[0m\u001b[0mdict\u001b[0m\u001b[1;33m,\u001b[0m \u001b[1;34m'default'\u001b[0m\u001b[1;33m,\u001b[0m \u001b[1;34m'http_error_default'\u001b[0m\u001b[1;33m)\u001b[0m \u001b[1;33m+\u001b[0m \u001b[0morig_args\u001b[0m\u001b[1;33m\u001b[0m\u001b[1;33m\u001b[0m\u001b[0m\n\u001b[1;32m--> 569\u001b[1;33m             \u001b[1;32mreturn\u001b[0m \u001b[0mself\u001b[0m\u001b[1;33m.\u001b[0m\u001b[0m_call_chain\u001b[0m\u001b[1;33m(\u001b[0m\u001b[1;33m*\u001b[0m\u001b[0margs\u001b[0m\u001b[1;33m)\u001b[0m\u001b[1;33m\u001b[0m\u001b[1;33m\u001b[0m\u001b[0m\n\u001b[0m\u001b[0;32m    570\u001b[0m \u001b[1;33m\u001b[0m\u001b[0m\n\u001b[0;32m    571\u001b[0m \u001b[1;31m# XXX probably also want an abstract factory that knows when it makes\u001b[0m\u001b[1;33m\u001b[0m\u001b[1;33m\u001b[0m\u001b[1;33m\u001b[0m\u001b[0m\n",
      "\u001b[1;32mC:\\ProgramData\\Anaconda3\\lib\\urllib\\request.py\u001b[0m in \u001b[0;36m_call_chain\u001b[1;34m(self, chain, kind, meth_name, *args)\u001b[0m\n\u001b[0;32m    500\u001b[0m         \u001b[1;32mfor\u001b[0m \u001b[0mhandler\u001b[0m \u001b[1;32min\u001b[0m \u001b[0mhandlers\u001b[0m\u001b[1;33m:\u001b[0m\u001b[1;33m\u001b[0m\u001b[1;33m\u001b[0m\u001b[0m\n\u001b[0;32m    501\u001b[0m             \u001b[0mfunc\u001b[0m \u001b[1;33m=\u001b[0m \u001b[0mgetattr\u001b[0m\u001b[1;33m(\u001b[0m\u001b[0mhandler\u001b[0m\u001b[1;33m,\u001b[0m \u001b[0mmeth_name\u001b[0m\u001b[1;33m)\u001b[0m\u001b[1;33m\u001b[0m\u001b[1;33m\u001b[0m\u001b[0m\n\u001b[1;32m--> 502\u001b[1;33m             \u001b[0mresult\u001b[0m \u001b[1;33m=\u001b[0m \u001b[0mfunc\u001b[0m\u001b[1;33m(\u001b[0m\u001b[1;33m*\u001b[0m\u001b[0margs\u001b[0m\u001b[1;33m)\u001b[0m\u001b[1;33m\u001b[0m\u001b[1;33m\u001b[0m\u001b[0m\n\u001b[0m\u001b[0;32m    503\u001b[0m             \u001b[1;32mif\u001b[0m \u001b[0mresult\u001b[0m \u001b[1;32mis\u001b[0m \u001b[1;32mnot\u001b[0m \u001b[1;32mNone\u001b[0m\u001b[1;33m:\u001b[0m\u001b[1;33m\u001b[0m\u001b[1;33m\u001b[0m\u001b[0m\n\u001b[0;32m    504\u001b[0m                 \u001b[1;32mreturn\u001b[0m \u001b[0mresult\u001b[0m\u001b[1;33m\u001b[0m\u001b[1;33m\u001b[0m\u001b[0m\n",
      "\u001b[1;32mC:\\ProgramData\\Anaconda3\\lib\\urllib\\request.py\u001b[0m in \u001b[0;36mhttp_error_default\u001b[1;34m(self, req, fp, code, msg, hdrs)\u001b[0m\n\u001b[0;32m    647\u001b[0m \u001b[1;32mclass\u001b[0m \u001b[0mHTTPDefaultErrorHandler\u001b[0m\u001b[1;33m(\u001b[0m\u001b[0mBaseHandler\u001b[0m\u001b[1;33m)\u001b[0m\u001b[1;33m:\u001b[0m\u001b[1;33m\u001b[0m\u001b[1;33m\u001b[0m\u001b[0m\n\u001b[0;32m    648\u001b[0m     \u001b[1;32mdef\u001b[0m \u001b[0mhttp_error_default\u001b[0m\u001b[1;33m(\u001b[0m\u001b[0mself\u001b[0m\u001b[1;33m,\u001b[0m \u001b[0mreq\u001b[0m\u001b[1;33m,\u001b[0m \u001b[0mfp\u001b[0m\u001b[1;33m,\u001b[0m \u001b[0mcode\u001b[0m\u001b[1;33m,\u001b[0m \u001b[0mmsg\u001b[0m\u001b[1;33m,\u001b[0m \u001b[0mhdrs\u001b[0m\u001b[1;33m)\u001b[0m\u001b[1;33m:\u001b[0m\u001b[1;33m\u001b[0m\u001b[1;33m\u001b[0m\u001b[0m\n\u001b[1;32m--> 649\u001b[1;33m         \u001b[1;32mraise\u001b[0m \u001b[0mHTTPError\u001b[0m\u001b[1;33m(\u001b[0m\u001b[0mreq\u001b[0m\u001b[1;33m.\u001b[0m\u001b[0mfull_url\u001b[0m\u001b[1;33m,\u001b[0m \u001b[0mcode\u001b[0m\u001b[1;33m,\u001b[0m \u001b[0mmsg\u001b[0m\u001b[1;33m,\u001b[0m \u001b[0mhdrs\u001b[0m\u001b[1;33m,\u001b[0m \u001b[0mfp\u001b[0m\u001b[1;33m)\u001b[0m\u001b[1;33m\u001b[0m\u001b[1;33m\u001b[0m\u001b[0m\n\u001b[0m\u001b[0;32m    650\u001b[0m \u001b[1;33m\u001b[0m\u001b[0m\n\u001b[0;32m    651\u001b[0m \u001b[1;32mclass\u001b[0m \u001b[0mHTTPRedirectHandler\u001b[0m\u001b[1;33m(\u001b[0m\u001b[0mBaseHandler\u001b[0m\u001b[1;33m)\u001b[0m\u001b[1;33m:\u001b[0m\u001b[1;33m\u001b[0m\u001b[1;33m\u001b[0m\u001b[0m\n",
      "\u001b[1;31mHTTPError\u001b[0m: HTTP Error 403: Forbidden"
     ]
    }
   ],
   "source": [
    "numbers_all = []\n",
    "\n",
    "for datetime in pd.date_range(start='20190101', end='20190131') :\n",
    "    date = str(datetime.date()).replace('-','')\n",
    "    url = f'https://gw.jejudatahub.net/api/proxy/2091358b30e611eabf4805544c722b34/{your_appkey}?searchDate={date}'\n",
    "    response=urlopen(url).read().decode('utf-8')\n",
    "    #디코딩\n",
    "    ja=json.loads(response)\n",
    "    info=ja.get(\"data\")\n",
    "    df=json_normalize(ja['data'])\n",
    "    numbers_all.append(df)"
   ]
  },
  {
   "cell_type": "code",
   "execution_count": 122,
   "metadata": {
    "scrolled": false
   },
   "outputs": [
    {
     "data": {
      "text/html": [
       "<div>\n",
       "<style scoped>\n",
       "    .dataframe tbody tr th:only-of-type {\n",
       "        vertical-align: middle;\n",
       "    }\n",
       "\n",
       "    .dataframe tbody tr th {\n",
       "        vertical-align: top;\n",
       "    }\n",
       "\n",
       "    .dataframe thead th {\n",
       "        text-align: right;\n",
       "    }\n",
       "</style>\n",
       "<table border=\"1\" class=\"dataframe\">\n",
       "  <thead>\n",
       "    <tr style=\"text-align: right;\">\n",
       "      <th></th>\n",
       "      <th>baseDate</th>\n",
       "      <th>uploadBytes</th>\n",
       "      <th>downloadBytes</th>\n",
       "      <th>sessionTime</th>\n",
       "      <th>userCount</th>\n",
       "      <th>city</th>\n",
       "      <th>emd</th>\n",
       "      <th>category</th>\n",
       "      <th>gender</th>\n",
       "      <th>ageGroup</th>\n",
       "    </tr>\n",
       "  </thead>\n",
       "  <tbody>\n",
       "    <tr>\n",
       "      <th>0</th>\n",
       "      <td>20190101</td>\n",
       "      <td>100672117</td>\n",
       "      <td>499147815</td>\n",
       "      <td>54096</td>\n",
       "      <td>26</td>\n",
       "      <td>제주시</td>\n",
       "      <td>한림읍</td>\n",
       "      <td>해변</td>\n",
       "      <td>남</td>\n",
       "      <td>30</td>\n",
       "    </tr>\n",
       "    <tr>\n",
       "      <th>1</th>\n",
       "      <td>20190101</td>\n",
       "      <td>22850689</td>\n",
       "      <td>201745638</td>\n",
       "      <td>57901</td>\n",
       "      <td>25</td>\n",
       "      <td>제주시</td>\n",
       "      <td>오라일동</td>\n",
       "      <td>전기차충전소</td>\n",
       "      <td>남</td>\n",
       "      <td>50</td>\n",
       "    </tr>\n",
       "    <tr>\n",
       "      <th>2</th>\n",
       "      <td>20190101</td>\n",
       "      <td>494655</td>\n",
       "      <td>3641087</td>\n",
       "      <td>1729</td>\n",
       "      <td>14</td>\n",
       "      <td>서귀포시</td>\n",
       "      <td>서귀동</td>\n",
       "      <td>올레코스</td>\n",
       "      <td>남</td>\n",
       "      <td>60</td>\n",
       "    </tr>\n",
       "    <tr>\n",
       "      <th>3</th>\n",
       "      <td>20190101</td>\n",
       "      <td>2524862845</td>\n",
       "      <td>463256312</td>\n",
       "      <td>280457</td>\n",
       "      <td>138</td>\n",
       "      <td>-</td>\n",
       "      <td>-</td>\n",
       "      <td>-</td>\n",
       "      <td>여</td>\n",
       "      <td>60</td>\n",
       "    </tr>\n",
       "    <tr>\n",
       "      <th>4</th>\n",
       "      <td>20190101</td>\n",
       "      <td>1032243</td>\n",
       "      <td>4515287</td>\n",
       "      <td>4330</td>\n",
       "      <td>4</td>\n",
       "      <td>제주시</td>\n",
       "      <td>한경면</td>\n",
       "      <td>사설관광지</td>\n",
       "      <td>남</td>\n",
       "      <td>10</td>\n",
       "    </tr>\n",
       "    <tr>\n",
       "      <th>5</th>\n",
       "      <td>20190101</td>\n",
       "      <td>9267007</td>\n",
       "      <td>261999431</td>\n",
       "      <td>2756</td>\n",
       "      <td>6</td>\n",
       "      <td>제주시</td>\n",
       "      <td>연동</td>\n",
       "      <td>사설관광지</td>\n",
       "      <td>남</td>\n",
       "      <td>10</td>\n",
       "    </tr>\n",
       "    <tr>\n",
       "      <th>6</th>\n",
       "      <td>20190101</td>\n",
       "      <td>254547</td>\n",
       "      <td>5534361</td>\n",
       "      <td>308</td>\n",
       "      <td>2</td>\n",
       "      <td>서귀포시</td>\n",
       "      <td>남원읍</td>\n",
       "      <td>올레코스</td>\n",
       "      <td>남</td>\n",
       "      <td>0</td>\n",
       "    </tr>\n",
       "    <tr>\n",
       "      <th>7</th>\n",
       "      <td>20190101</td>\n",
       "      <td>10623719</td>\n",
       "      <td>173711223</td>\n",
       "      <td>45887</td>\n",
       "      <td>76</td>\n",
       "      <td>제주시</td>\n",
       "      <td>외도1동</td>\n",
       "      <td>정류소</td>\n",
       "      <td>남</td>\n",
       "      <td>40</td>\n",
       "    </tr>\n",
       "    <tr>\n",
       "      <th>8</th>\n",
       "      <td>20190101</td>\n",
       "      <td>104397699</td>\n",
       "      <td>352052352</td>\n",
       "      <td>564208</td>\n",
       "      <td>189</td>\n",
       "      <td>제주시</td>\n",
       "      <td>아라1동</td>\n",
       "      <td>정류소</td>\n",
       "      <td>여</td>\n",
       "      <td>20</td>\n",
       "    </tr>\n",
       "    <tr>\n",
       "      <th>9</th>\n",
       "      <td>20190101</td>\n",
       "      <td>45822998</td>\n",
       "      <td>62878981</td>\n",
       "      <td>19437</td>\n",
       "      <td>27</td>\n",
       "      <td>제주시</td>\n",
       "      <td>구좌읍</td>\n",
       "      <td>올레코스</td>\n",
       "      <td>여</td>\n",
       "      <td>40</td>\n",
       "    </tr>\n",
       "  </tbody>\n",
       "</table>\n",
       "</div>"
      ],
      "text/plain": [
       "   baseDate uploadBytes downloadBytes sessionTime userCount  city   emd  \\\n",
       "0  20190101   100672117     499147815       54096        26   제주시   한림읍   \n",
       "1  20190101    22850689     201745638       57901        25   제주시  오라일동   \n",
       "2  20190101      494655       3641087        1729        14  서귀포시   서귀동   \n",
       "3  20190101  2524862845     463256312      280457       138     -     -   \n",
       "4  20190101     1032243       4515287        4330         4   제주시   한경면   \n",
       "5  20190101     9267007     261999431        2756         6   제주시    연동   \n",
       "6  20190101      254547       5534361         308         2  서귀포시   남원읍   \n",
       "7  20190101    10623719     173711223       45887        76   제주시  외도1동   \n",
       "8  20190101   104397699     352052352      564208       189   제주시  아라1동   \n",
       "9  20190101    45822998      62878981       19437        27   제주시   구좌읍   \n",
       "\n",
       "  category gender ageGroup  \n",
       "0       해변      남       30  \n",
       "1   전기차충전소      남       50  \n",
       "2     올레코스      남       60  \n",
       "3        -      여       60  \n",
       "4    사설관광지      남       10  \n",
       "5    사설관광지      남       10  \n",
       "6     올레코스      남        0  \n",
       "7      정류소      남       40  \n",
       "8      정류소      여       20  \n",
       "9     올레코스      여       40  "
      ]
     },
     "execution_count": 122,
     "metadata": {},
     "output_type": "execute_result"
    }
   ],
   "source": [
    "numbers_all[0]"
   ]
  },
  {
   "cell_type": "code",
   "execution_count": 27,
   "metadata": {
    "scrolled": true
   },
   "outputs": [
    {
     "ename": "AttributeError",
     "evalue": "'list' object has no attribute 'find'",
     "output_type": "error",
     "traceback": [
      "\u001b[1;31m---------------------------------------------------------------------------\u001b[0m",
      "\u001b[1;31mAttributeError\u001b[0m                            Traceback (most recent call last)",
      "\u001b[1;32m<ipython-input-27-e24d37bfd0d0>\u001b[0m in \u001b[0;36m<module>\u001b[1;34m\u001b[0m\n\u001b[1;32m----> 1\u001b[1;33m \u001b[0mnumbers\u001b[0m\u001b[1;33m.\u001b[0m\u001b[0mfind\u001b[0m\u001b[1;33m(\u001b[0m\u001b[1;34m'totCnt'\u001b[0m\u001b[1;33m)\u001b[0m\u001b[1;33m\u001b[0m\u001b[1;33m\u001b[0m\u001b[0m\n\u001b[0m",
      "\u001b[1;31mAttributeError\u001b[0m: 'list' object has no attribute 'find'"
     ]
    }
   ],
   "source": [
    "numbers.find('totCnt')"
   ]
  },
  {
   "cell_type": "code",
   "execution_count": 28,
   "metadata": {},
   "outputs": [],
   "source": [
    "import pandas as pd\n",
    "from bs4 import BeautifulSoup\n",
    "import requests\n",
    "import time"
   ]
  },
  {
   "cell_type": "code",
   "execution_count": 38,
   "metadata": {},
   "outputs": [],
   "source": [
    "your_appkey = '9670733fe9144915b0733fe91479152b'\n",
    "date = '20190801'"
   ]
  },
  {
   "cell_type": "code",
   "execution_count": 39,
   "metadata": {},
   "outputs": [],
   "source": [
    "api_url = f'https://gw.jejudatahub.net/api/proxy/16e99520305d11eabf4805544c722b34/{your_appkey}?searchDate={date}'"
   ]
  },
  {
   "cell_type": "code",
   "execution_count": 40,
   "metadata": {},
   "outputs": [
    {
     "data": {
      "text/plain": [
       "'https://gw.jejudatahub.net/api/proxy/16e99520305d11eabf4805544c722b34/9670733fe9144915b0733fe91479152b?searchDate=20190801'"
      ]
     },
     "execution_count": 40,
     "metadata": {},
     "output_type": "execute_result"
    }
   ],
   "source": [
    "api_url"
   ]
  },
  {
   "cell_type": "code",
   "execution_count": 42,
   "metadata": {},
   "outputs": [
    {
     "name": "stdout",
     "output_type": "stream",
     "text": [
      "<class 'requests.models.Response'>\n"
     ]
    }
   ],
   "source": [
    "req = requests.get(api_url)\n",
    "print(type(req))"
   ]
  },
  {
   "cell_type": "code",
   "execution_count": 63,
   "metadata": {
    "scrolled": true
   },
   "outputs": [
    {
     "name": "stdout",
     "output_type": "stream",
     "text": [
      "{\"totCnt\":3178,\"hasMore\":true,\"data\":[{\"baseDate\":\"20190801\",\"uploadBytes\":\"114556213\",\"downloadBytes\":\"2840856040\",\"sessionTime\":\"1539807\",\"userCount\":\"353\",\"city\":\"제주시\",\"emd\":\"연동\",\"category\":\"정류소\",\"gender\":\"남\",\"ageGroup\":\"10\"},{\"baseDate\":\"20190801\",\"uploadBytes\":\"60559683\",\"downloadBytes\":\"503674213\",\"sessionTime\":\"77533\",\"userCount\":\"83\",\"city\":\"서귀포시\",\"emd\":\"서홍동\",\"category\":\"전기차충전소\",\"gender\":\"남\",\"ageGroup\":\"50\"},{\"baseDate\":\"20190801\",\"uploadBytes\":\"34768950\",\"downloadBytes\":\"358383237\",\"sessionTime\":\"125339\",\"userCount\":\"132\",\"city\":\"서귀포시\",\"emd\":\"-\",\"category\":\"-\",\"gender\":\"남\",\"ageGroup\":\"30\"},{\"baseDate\":\"20190801\",\"uploadBytes\":\"515464\",\"downloadBytes\":\"1219374\",\"sessionTime\":\"50792\",\"userCount\":\"19\",\"city\":\"제주시\",\"emd\":\"이도일동\",\"category\":\"전기차충전소\",\"gender\":\"여\",\"ageGroup\":\"10\"},{\"baseDate\":\"20190801\",\"uploadBytes\":\"6747254\",\"downloadBytes\":\"30575363\",\"sessionTime\":\"293061\",\"userCount\":\"79\",\"city\":\"제주시\",\"emd\":\"연동\",\"category\":\"공원\",\"gender\":\"남\",\"ageGroup\":\"60\"},{\"baseDate\":\"20190801\",\"uploadBytes\":\"4308552\",\"downloadBytes\":\"62852083\",\"sessionTime\":\"17689\",\"userCount\":\"24\",\"city\":\"제주시\",\"emd\":\"오라1동\",\"category\":\"버스정류장\",\"gender\":\"남\",\"ageGroup\":\"20\"},{\"baseDate\":\"20190801\",\"uploadBytes\":\"876813\",\"downloadBytes\":\"5509820\",\"sessionTime\":\"16619\",\"userCount\":\"30\",\"city\":\"서귀포시\",\"emd\":\"서귀\",\"category\":\"복지시설\",\"gender\":\"남\",\"ageGroup\":\"10\"},{\"baseDate\":\"20190801\",\"uploadBytes\":\"3131960\",\"downloadBytes\":\"3152614\",\"sessionTime\":\"6817\",\"userCount\":\"6\",\"city\":\"서귀포시\",\"emd\":\"대포동\",\"category\":\"올레코스\",\"gender\":\"남\",\"ageGroup\":\"60\"},{\"baseDate\":\"20190801\",\"uploadBytes\":\"2735548\",\"downloadBytes\":\"25744601\",\"sessionTime\":\"163829\",\"userCount\":\"48\",\"city\":\"제주시\",\"emd\":\"용담1동\",\"category\":\"정류소\",\"gender\":\"여\",\"ageGroup\":\"40\"},{\"baseDate\":\"20190801\",\"uploadBytes\":\"65970545\",\"downloadBytes\":\"2103502701\",\"sessionTime\":\"637922\",\"userCount\":\"151\",\"city\":\"제주시\",\"emd\":\"삼양2동\",\"category\":\"버스정류장 (10만이상)\",\"gender\":\"여\",\"ageGroup\":\"10\"}]}\n"
     ]
    }
   ],
   "source": [
    "html = req.text\n",
    "print(html)"
   ]
  },
  {
   "cell_type": "code",
   "execution_count": 62,
   "metadata": {},
   "outputs": [
    {
     "data": {
      "text/plain": [
       "{\"totCnt\":3178,\"hasMore\":true,\"data\":[{\"baseDate\":\"20190801\",\"uploadBytes\":\"114556213\",\"downloadBytes\":\"2840856040\",\"sessionTime\":\"1539807\",\"userCount\":\"353\",\"city\":\"제주시\",\"emd\":\"연동\",\"category\":\"정류소\",\"gender\":\"남\",\"ageGroup\":\"10\"},{\"baseDate\":\"20190801\",\"uploadBytes\":\"60559683\",\"downloadBytes\":\"503674213\",\"sessionTime\":\"77533\",\"userCount\":\"83\",\"city\":\"서귀포시\",\"emd\":\"서홍동\",\"category\":\"전기차충전소\",\"gender\":\"남\",\"ageGroup\":\"50\"},{\"baseDate\":\"20190801\",\"uploadBytes\":\"34768950\",\"downloadBytes\":\"358383237\",\"sessionTime\":\"125339\",\"userCount\":\"132\",\"city\":\"서귀포시\",\"emd\":\"-\",\"category\":\"-\",\"gender\":\"남\",\"ageGroup\":\"30\"},{\"baseDate\":\"20190801\",\"uploadBytes\":\"515464\",\"downloadBytes\":\"1219374\",\"sessionTime\":\"50792\",\"userCount\":\"19\",\"city\":\"제주시\",\"emd\":\"이도일동\",\"category\":\"전기차충전소\",\"gender\":\"여\",\"ageGroup\":\"10\"},{\"baseDate\":\"20190801\",\"uploadBytes\":\"6747254\",\"downloadBytes\":\"30575363\",\"sessionTime\":\"293061\",\"userCount\":\"79\",\"city\":\"제주시\",\"emd\":\"연동\",\"category\":\"공원\",\"gender\":\"남\",\"ageGroup\":\"60\"},{\"baseDate\":\"20190801\",\"uploadBytes\":\"4308552\",\"downloadBytes\":\"62852083\",\"sessionTime\":\"17689\",\"userCount\":\"24\",\"city\":\"제주시\",\"emd\":\"오라1동\",\"category\":\"버스정류장\",\"gender\":\"남\",\"ageGroup\":\"20\"},{\"baseDate\":\"20190801\",\"uploadBytes\":\"876813\",\"downloadBytes\":\"5509820\",\"sessionTime\":\"16619\",\"userCount\":\"30\",\"city\":\"서귀포시\",\"emd\":\"서귀\",\"category\":\"복지시설\",\"gender\":\"남\",\"ageGroup\":\"10\"},{\"baseDate\":\"20190801\",\"uploadBytes\":\"3131960\",\"downloadBytes\":\"3152614\",\"sessionTime\":\"6817\",\"userCount\":\"6\",\"city\":\"서귀포시\",\"emd\":\"대포동\",\"category\":\"올레코스\",\"gender\":\"남\",\"ageGroup\":\"60\"},{\"baseDate\":\"20190801\",\"uploadBytes\":\"2735548\",\"downloadBytes\":\"25744601\",\"sessionTime\":\"163829\",\"userCount\":\"48\",\"city\":\"제주시\",\"emd\":\"용담1동\",\"category\":\"정류소\",\"gender\":\"여\",\"ageGroup\":\"40\"},{\"baseDate\":\"20190801\",\"uploadBytes\":\"65970545\",\"downloadBytes\":\"2103502701\",\"sessionTime\":\"637922\",\"userCount\":\"151\",\"city\":\"제주시\",\"emd\":\"삼양2동\",\"category\":\"버스정류장 (10만이상)\",\"gender\":\"여\",\"ageGroup\":\"10\"}]}"
      ]
     },
     "execution_count": 62,
     "metadata": {},
     "output_type": "execute_result"
    }
   ],
   "source": [
    "soup = BeautifulSoup(html, 'html.parser')\n",
    "soup"
   ]
  },
  {
   "cell_type": "code",
   "execution_count": 102,
   "metadata": {
    "scrolled": true
   },
   "outputs": [
    {
     "name": "stdout",
     "output_type": "stream",
     "text": [
      "   baseDate uploadBytes downloadBytes sessionTime userCount  city   emd  \\\n",
      "0  20190101   100672117     499147815       54096        26   제주시   한림읍   \n",
      "1  20190101    22850689     201745638       57901        25   제주시  오라일동   \n",
      "2  20190101      494655       3641087        1729        14  서귀포시   서귀동   \n",
      "3  20190101  2524862845     463256312      280457       138     -     -   \n",
      "4  20190101     1032243       4515287        4330         4   제주시   한경면   \n",
      "5  20190101     9267007     261999431        2756         6   제주시    연동   \n",
      "6  20190101      254547       5534361         308         2  서귀포시   남원읍   \n",
      "7  20190101    10623719     173711223       45887        76   제주시  외도1동   \n",
      "8  20190101   104397699     352052352      564208       189   제주시  아라1동   \n",
      "9  20190101    45822998      62878981       19437        27   제주시   구좌읍   \n",
      "\n",
      "  category gender ageGroup  \n",
      "0       해변      남       30  \n",
      "1   전기차충전소      남       50  \n",
      "2     올레코스      남       60  \n",
      "3        -      여       60  \n",
      "4    사설관광지      남       10  \n",
      "5    사설관광지      남       10  \n",
      "6     올레코스      남        0  \n",
      "7      정류소      남       40  \n",
      "8      정류소      여       20  \n",
      "9     올레코스      여       40  \n"
     ]
    },
    {
     "name": "stderr",
     "output_type": "stream",
     "text": [
      "C:\\Users\\Daehyun\\anaconda3\\envs\\tf_test\\lib\\site-packages\\ipykernel_launcher.py:22: FutureWarning: pandas.io.json.json_normalize is deprecated, use pandas.json_normalize instead\n"
     ]
    }
   ],
   "source": [
    "from urllib.request import urlopen\n",
    "import urllib.parse\n",
    "import urllib\n",
    "import requests\n",
    "import json\n",
    "import pandas as pd\n",
    "from pandas.io.json import json_normalize\n",
    "import re\n",
    "\n",
    "value = \"경로\" #url 파라미터 한글 인코딩 위함\n",
    "encode = urllib.parse.quote_plus(value) # 한글 인코딩?\n",
    "url='https://gw.jejudatahub.net/api/proxy/c14d5aee305f11eabf4805544c722b34/c46a0e45827a412baa0e45827a512b54?startDate=20191018&endDate=20191018&moveType=0&priceType='+encode+'&limit=69'\n",
    "#url 요청(20191020 경로)\n",
    "response=urlopen(url).read().decode('utf-8')\n",
    "#디코딩\n",
    "ja=json.loads(response)\n",
    "info=ja.get(\"data\")\n",
    "#print(data) # 데이터 출력 (default=10 이라 행 10개만 출력 , url 에 limit 추가할것 (max=100))\n",
    "#b=[ja['data']] # 좀 이쁘게 출력\n",
    "df=json_normalize(ja['data'])# 데이터프레임화?\n",
    "print(df)\n",
    "#df.to_csv('c:/d.csv',encoding='euc-kr') # csv로 저장 ,한글 인코딩"
   ]
  },
  {
   "cell_type": "code",
   "execution_count": null,
   "metadata": {},
   "outputs": [],
   "source": [
    "from urllib.request import urlopen\n",
    "import urllib.parse\n",
    "import urllib\n",
    "import requests\n",
    "import json\n",
    "import pandas as pd\n",
    "from pandas.io.json import json_normalize\n",
    "import re\n",
    "\n",
    "value = \"경로\" #url 파라미터 한글 인코딩 위함\n",
    "encode = urllib.parse.quote_plus(value) # 한글 인코딩?\n",
    "url='https://gw.jejudatahub.net/api/proxy/c14d5aee305f11eabf4805544c722b34/c46a0e45827a412baa0e45827a512b54?startDate=20191018&endDate=20191018&moveType=0&priceType='+encode+'&limit=69'\n",
    "#url 요청(20191020 경로)\n",
    "response=urlopen(url).read().decode('utf-8')\n",
    "#디코딩\n",
    "ja=json.loads(response)\n",
    "info=ja.get(\"data\")\n",
    "#print(data) # 데이터 출력 (default=10 이라 행 10개만 출력 , url 에 limit 추가할것 (max=100))\n",
    "#b=[ja['data']] # 좀 이쁘게 출력\n",
    "df=json_normalize(ja['data'])# 데이터프레임화?\n",
    "print(df)\n",
    "#df.to_csv('c:/d.csv',encoding='euc-kr') # csv로 저장 ,한글 인코딩"
   ]
  }
 ],
 "metadata": {
  "kernelspec": {
   "display_name": "Python 3",
   "language": "python",
   "name": "python3"
  },
  "language_info": {
   "codemirror_mode": {
    "name": "ipython",
    "version": 3
   },
   "file_extension": ".py",
   "mimetype": "text/x-python",
   "name": "python",
   "nbconvert_exporter": "python",
   "pygments_lexer": "ipython3",
   "version": "3.8.3"
  },
  "toc": {
   "base_numbering": 1,
   "nav_menu": {},
   "number_sections": true,
   "sideBar": true,
   "skip_h1_title": false,
   "title_cell": "Table of Contents",
   "title_sidebar": "Contents",
   "toc_cell": false,
   "toc_position": {},
   "toc_section_display": true,
   "toc_window_display": false
  }
 },
 "nbformat": 4,
 "nbformat_minor": 4
}
